{
 "cells": [
  {
   "cell_type": "code",
   "execution_count": 1,
   "id": "62a6a20e",
   "metadata": {},
   "outputs": [],
   "source": [
    "import rospy\n",
    "from sensor_msgs.msg import JointState\n",
    "import pandas as pd\n",
    "import klampt\n",
    "from klampt import WorldModel\n",
    "from klampt.model import ik\n",
    "from klampt import vis\n",
    "from allegro_control_demo import HandController\n",
    "import numpy as np\n",
    "from threading import Thread,Lock\n",
    "import time\n"
   ]
  },
  {
   "cell_type": "code",
   "execution_count": 2,
   "id": "b3616627",
   "metadata": {},
   "outputs": [],
   "source": [
    "class HandController:\n",
    "    def __init__(self):\n",
    "        rospy.init_node('aaaaa',anonymous = True)\n",
    "        \n",
    "        ###GAINS\n",
    "        self.k_p = np.array([500, 800, 900, 500,500, 800, 900, 500,500, 800, 900, 500,1000, 700, 600, 600])\n",
    "        self.k_d = np.array([25, 50, 55, 40,25, 50, 55, 40,25, 50, 55, 40,50, 50, 50, 40])\n",
    "        self.k_i = np.array(16*[10])\n",
    "        \n",
    "        \n",
    "        ### LIMITS :\n",
    "        self.pos_min = np.array(16*[0])\n",
    "        self.pos_max = np.array(16*[np.pi*(90/180)])\n",
    "        self.i_saturation = np.array(16*[0.5])\n",
    "        self.error_integral = np.zeros(16)\n",
    "        \n",
    "        ### CONSTANTS\n",
    "        self.conversion_constant = 1/2400.0\n",
    "        self.joint_state_subscriber = rospy.Subscriber('/allegroHand_0/joint_states',JointState,self.update_internal_variables,tcp_nodelay = True)\n",
    "        self.joint_cmd_publisher = test_pub = rospy.Publisher('/allegroHand_0/joint_cmd', JointState, queue_size=10,tcp_nodelay = True)\n",
    "        self.read_lock = Lock()\n",
    "        self.target_lock = Lock()\n",
    "        self.command_lock = Lock()\n",
    "        self.pos_target = np.array([-0.034044832868002486, 0.21487189444754157, 0.7170365380274353, 0.6094390445703134, -0.006500337101204626, 0.18626165632739455, 0.7353485653664781, 0.7596449737913296, 0.0639623637387915, 0.31196840425314604, 0.7560199640338172, 0.6387554320699687, 1.1008734155170343, 0.7052834691730496, 0.3054462763105439, 0.8326928125510552])\n",
    "\n",
    "        self.r = rospy.Rate(100)\n",
    "        self.publish_thread = Thread(target = self.manage_torques, name = 'Joseph')\n",
    "        time.sleep(0.2)\n",
    "        self.publish_thread.start()\n",
    "\n",
    "    def update_internal_variables(self,data):\n",
    "        \"All these quantities are theoretically already low-pass filtered\"\n",
    "        with self.read_lock:\n",
    "#             print('updating!')\n",
    "            self.current_position = data.position\n",
    "            self.current_velocity = data.velocity\n",
    "            self.current_effort = data.effort\n",
    "    def manage_torques(self):\n",
    "        while True:\n",
    "            with self.read_lock:\n",
    "                with self.target_lock:\n",
    "                    error = self.pos_target - self.current_position\n",
    "                    vel = self.current_velocity\n",
    "            self.error_integral += error\n",
    "            self.error_integral = np.clip(self.error_integral,-self.i_saturation,self.i_saturation)\n",
    "            self.command = self.conversion_constant*(self.k_p*error-self.k_d*vel+self.k_i*self.error_integral)\n",
    "            msg = JointState()\n",
    "            msg.effort = self.command\n",
    "            self.joint_cmd_publisher.publish(msg)\n",
    "            self.r.sleep()\n",
    "            \n",
    "        \n",
    "    def set_target(self,pos_target):\n",
    "        if(len(pos_target) != 16):\n",
    "            print('wrong size config')\n",
    "        else:\n",
    "            pos_target = np.clip(pos_target,a_min = self.pos_min,a_max = self.pos_max)\n",
    "            print(pos_target)\n",
    "            with self.target_lock:\n",
    "                self.pos_target = pos_target\n",
    "        \n",
    "        "
   ]
  },
  {
   "cell_type": "code",
   "execution_count": 3,
   "id": "8dccbefc",
   "metadata": {},
   "outputs": [],
   "source": [
    "hc = HandController()"
   ]
  },
  {
   "cell_type": "code",
   "execution_count": 29,
   "id": "5188ad23",
   "metadata": {},
   "outputs": [
    {
     "name": "stdout",
     "output_type": "stream",
     "text": [
      "[0.02802794 0.43343184 1.36049461 1.0028985  0.00679682 0.\n",
      " 0.79540285 0.72817009 0.0468453  0.         0.90931324 0.72311231\n",
      " 1.02491071 0.3116513  0.68363757 0.96532409]\n"
     ]
    }
   ],
   "source": [
    "tg = hc.pos_target\n",
    "# tg[1] += 0.1\n",
    "tg = [0.028027936105028343, 0.4334318352473945, 1.3604946093966854, 1.0028984983547073, 0.006796818909250197, -0.139290547459729, 0.7954028490304312, 0.728170085713102, 0.0468452962407659, -0.04385274957197116, 0.9093132355147681, 0.7231123110732285, 1.024910711807361, 0.3116512998229869, 0.6836375680440724, 0.9653240875116325]\n",
    "\n",
    "hc.set_target(tg)"
   ]
  },
  {
   "cell_type": "code",
   "execution_count": 30,
   "id": "f8b08dbe",
   "metadata": {},
   "outputs": [
    {
     "data": {
      "text/plain": [
       "[0.028027936105028343,\n",
       " 0.4334318352473945,\n",
       " 1.3604946093966854,\n",
       " 1.0028984983547073,\n",
       " 0.006796818909250197,\n",
       " -0.139290547459729,\n",
       " 0.7954028490304312,\n",
       " 0.728170085713102,\n",
       " 0.0468452962407659,\n",
       " -0.04385274957197116,\n",
       " 0.9093132355147681,\n",
       " 0.7231123110732285,\n",
       " 1.024910711807361,\n",
       " 0.3116512998229869,\n",
       " 0.6836375680440724,\n",
       " 0.9653240875116325]"
      ]
     },
     "execution_count": 30,
     "metadata": {},
     "output_type": "execute_result"
    }
   ],
   "source": [
    "tg"
   ]
  },
  {
   "cell_type": "code",
   "execution_count": null,
   "id": "e3f32cda",
   "metadata": {},
   "outputs": [],
   "source": []
  },
  {
   "cell_type": "code",
   "execution_count": null,
   "id": "a6d911eb",
   "metadata": {},
   "outputs": [],
   "source": [
    "# help(JointState)\n",
    "state = JointState()\n",
    "\n",
    "goal_position = [0.028027936105028343, 0.4334318352473945, 1.3604946093966854, 1.0028984983547073, 0.006796818909250197, -0.139290547459729, 0.7954028490304312, 0.728170085713102, 0.0468452962407659, -0.04385274957197116, 0.9093132355147681, 0.7231123110732285, 1.024910711807361, 0.3116512998229869, 0.6836375680440724, 0.9653240875116325]\n",
    "\n",
    "effort = np.array([0.514141875905205083, 0.13133868394934473, -0.006045776600691687, -0.008459891164765511, 0.015981046195875315, 0.03172464593705451, -0.011637809953868334, -0.01849752361659694, 0.02030254564537881, 0.014990607686141195, -0.028567198016940857, -0.02527880594487169, -0.3104367712569881, -0.01792013245291449, 0.13417891663132614, 0.042600930938842145])\n",
    "\n",
    "effort[:] = 0\n",
    "effort[1] = 0"
   ]
  },
  {
   "cell_type": "code",
   "execution_count": null,
   "id": "c3d89663",
   "metadata": {},
   "outputs": [],
   "source": [
    "# state.position = [-0.03277025449200767, 0.003013571106191393, 0.006906383669412847, 1.1, -0.010217954488392744, 0.004764243864069904, 0.0010231640262854237, 0.003937912161014311, 0.04439321845272195, 0.008805573227113736, -0.01304334889322642, 0.00889665153955775, 0.2509741202665393, 0.024889682055115662, -0.10084521357662637, -0.07196197865546952]\n",
    "state.effort = effort\n",
    "\n",
    "# import rospy\n",
    "# from std_msgs.msg import String\n",
    "\n",
    "test_pub = rospy.Publisher('/allegroHand_0/joint_cmd', JointState, queue_size=10)\n",
    "rospy.init_node('TestNode')\n",
    "# r = rospy.Rate(10) # 10hz\n",
    "# while not rospy.is_shutdown():\n",
    "#    pub.publish(\"hello world\")\n",
    "#    r.sleep()\n",
    "\n",
    "test_pub.publish(state)"
   ]
  },
  {
   "cell_type": "markdown",
   "id": "4882ab65",
   "metadata": {},
   "source": [
    "# Loading the URDF"
   ]
  },
  {
   "cell_type": "code",
   "execution_count": null,
   "id": "5df22e1c",
   "metadata": {},
   "outputs": [],
   "source": [
    "import pandas as pd\n",
    "import klampt\n",
    "from klampt import WorldModel\n",
    "from klampt.model import ik\n",
    "from klampt import vis\n",
    "from copy import deepcopy\n",
    "import numpy as np\n",
    "from klampt.math import se3,so3\n",
    "\n",
    "import time\n",
    "vis.init('PyQt')\n",
    "\n",
    "active_dofs = [6,7,8,9,11,12,13,14,16,17,18,19,21,22,23,24]"
   ]
  },
  {
   "cell_type": "code",
   "execution_count": null,
   "id": "8ca12ee7",
   "metadata": {},
   "outputs": [],
   "source": [
    "world.loadElement('/home/motion/will/ROS_ALLEGRO_HAND/allegro_hand_ros_v4/src/allegro_hand_description/klampt_allegro_hand_right.urdf')"
   ]
  },
  {
   "cell_type": "code",
   "execution_count": null,
   "id": "1324bee5",
   "metadata": {},
   "outputs": [],
   "source": [
    "world = WorldModel()"
   ]
  },
  {
   "cell_type": "code",
   "execution_count": null,
   "id": "39cc63bb",
   "metadata": {},
   "outputs": [],
   "source": [
    "vis.add('world',world)\n",
    "\n",
    "vis.show()"
   ]
  },
  {
   "cell_type": "code",
   "execution_count": null,
   "id": "37993641",
   "metadata": {
    "scrolled": true
   },
   "outputs": [],
   "source": [
    "robot = world.robot(0)\n",
    "zero_config = robot.getConfig()"
   ]
  },
  {
   "cell_type": "code",
   "execution_count": null,
   "id": "c7905497",
   "metadata": {
    "scrolled": true
   },
   "outputs": [],
   "source": [
    "for link in range(robot.numLinks()):\n",
    "    l = robot.link(link)\n",
    "#     print(l.name)\n",
    "orig_config = robot.getConfig()\n"
   ]
  },
  {
   "cell_type": "code",
   "execution_count": null,
   "id": "2e37de30",
   "metadata": {},
   "outputs": [],
   "source": [
    "robot.setConfig(orig_config)"
   ]
  },
  {
   "cell_type": "code",
   "execution_count": null,
   "id": "a46e5095",
   "metadata": {},
   "outputs": [],
   "source": [
    "# a = list(robot.getConfig())\n",
    "a = deepcopy(orig_config)\n",
    "a[21] += 1\n",
    "robot.setConfig(a)"
   ]
  },
  {
   "cell_type": "code",
   "execution_count": null,
   "id": "63727775",
   "metadata": {},
   "outputs": [],
   "source": [
    "len(robot.getConfig())"
   ]
  },
  {
   "cell_type": "code",
   "execution_count": null,
   "id": "1355f1d5",
   "metadata": {},
   "outputs": [],
   "source": [
    "hand_df = pd.read_pickle('jingchen_hand_run.pkl')\n",
    "print(hand_df.shape)\n",
    "# hand_df = hand_df.loc[254:780,:].reset_index(drop = True)\n",
    "print(hand_df.shape)\n",
    "pos = hand_df.positions[0]\n",
    "\n",
    "max_vals = np.zeros(shape = (4,4))\n",
    "max_vals[:] = -np.inf\n",
    "min_vals = np.zeros(shape = (4,4))\n",
    "min_vals[:] = np.inf\n",
    "for angle in hand_df.angles:\n",
    "    angle = angle.astype(int)\n",
    "    max_vals = np.maximum(max_vals,angle)\n",
    "    min_vals = np.minimum(min_vals,angle)\n",
    "    \n",
    "span = max_vals-min_vals\n",
    "span"
   ]
  },
  {
   "cell_type": "code",
   "execution_count": null,
   "id": "287654db",
   "metadata": {},
   "outputs": [],
   "source": [
    "toe_tip = (pos[0][3]-pos[0][0])/1000\n",
    "toe_tip\n",
    "pc = klampt.PointCloud()\n",
    "# for i in range()\n",
    "from klampt.math import se3,so3\n",
    "R = so3.from_rotation_vector([0,-np.pi/2+0.25,0])\n",
    "T = (R,[0,0,-0.2])\n",
    "\n",
    "# pos = pos.reshape(-1,3)\n",
    "# for pos in hand_df.positions[100:102]:\n",
    "#     pc.setPoints(1.4*pos.reshape(-1,3)/1000)\n",
    "#     pc.transform(R,[-0.04,-0.01,-0.05])\n",
    "#     points = pc.getPoints()\n",
    "#     unit_points =\n",
    "# #     pc.transform(so3.identity(),t)\n",
    "#     pc\n",
    "#     vis.add('pc',pc,size = 40,color = [1,0,0,0.5])\n",
    "#     time.sleep(0.2)\n"
   ]
  },
  {
   "cell_type": "code",
   "execution_count": null,
   "id": "933bdd86",
   "metadata": {},
   "outputs": [],
   "source": [
    "active_dofs_list = [[11,12,13,14],[6,7,8,9],[16,17,18,19],[21,22,23,24]]\n",
    "to_state_msg = [6,7,8,9,16,17,18,19,21,22,23,24,11,12,13,14]"
   ]
  },
  {
   "cell_type": "code",
   "execution_count": null,
   "id": "b3bb561f",
   "metadata": {
    "scrolled": true
   },
   "outputs": [],
   "source": [
    "pc = klampt.PointCloud()\n",
    "for pos,angle in zip(hand_df.positions,hand_df.angles):\n",
    "    angle = angle.astype(float)\n",
    "    pc.setPoints(1.4*pos.reshape(-1,3)/1000)\n",
    "    pc.transform(R,[-0.04,-0.01,-0.05])\n",
    "    vis.add('pc',pc,size = 40,color = [1,0,0,0.5])\n",
    "    command = (np.pi/2)*(angle-min_vals)/span\n",
    "    points = pc.getPoints()\n",
    "#     robot.setConfig(orig_config)\n",
    "    prev_config = robot.getConfig()\n",
    "    toe = robot.link('link_15.0_tip')\n",
    "    index = robot.link('link_3.0_tip')\n",
    "    middle = robot.link('link_7.0_tip')\n",
    "    ring = robot.link('link_11.0_tip')\n",
    "    objs = []\n",
    "    obj_toe = ik.objective(toe,local=[0,0,0.017],world=points[3])\n",
    "#     obj_index = ik.objective(index,local=[0,0,0.017],world=points[7])\n",
    "#     obj_middle = ik.objective(middle,local=[0,0,0.017],world=points[11])\n",
    "#     obj_ring = ik.objective(ring,local=[0,0,0.017],world=points[19])\n",
    "    iks_to_solve = {'toe':[obj_toe,[11,12,13,14]]}#,'index':[obj_index,[6,7,8,9]],\n",
    "                    #'middle':[obj_middle,[16,17,18,19]],'ring':[obj_ring,[21,22,23,24]]}\n",
    "#     objs = [obj_toe,obj_index,obj_middle,obj_ring]\n",
    "    for key in iks_to_solve.keys():\n",
    "        obj,active_dofs = iks_to_solve[key]\n",
    "        prev_config = robot.getConfig()\n",
    "        vis.lock()\n",
    "        res = ik.solve_global(obj,activeDofs= active_dofs,numRestarts = 10)\n",
    "        new_config = robot.getConfig()\n",
    "        robot.setConfig(prev_config)\n",
    "        if(res):\n",
    "            robot.setConfig(new_config)\n",
    "        vis.unlock()\n",
    "    conf = robot.getConfig()\n",
    "    conf[7:10] = command[0][1:]\n",
    "    conf[17:20] = command[1][1:]\n",
    "    conf[22:25] = command[2][1:]\n",
    "    conf[21] = 0\n",
    "    vis.lock()\n",
    "    robot.setConfig(conf)\n",
    "    vis.unlock()\n",
    "    state = JointState()\n",
    "    state.position = np.array(conf)[[to_state_msg]]\n",
    "    test_pub.publish(state)\n",
    "#     a = input()\n",
    "    \n",
    "    \n",
    "    \n",
    "    \n",
    "#     print\n",
    "    #     print(res)\n",
    "    time.sleep(0.05)\n",
    "# robot.setConfig(prev_config)\n"
   ]
  },
  {
   "cell_type": "code",
   "execution_count": null,
   "id": "286bac3c",
   "metadata": {},
   "outputs": [],
   "source": [
    "print(new_config)"
   ]
  },
  {
   "cell_type": "code",
   "execution_count": null,
   "id": "b3a8ea0a",
   "metadata": {},
   "outputs": [],
   "source": [
    "solver.getResidual()"
   ]
  },
  {
   "cell_type": "code",
   "execution_count": null,
   "id": "bace436c",
   "metadata": {},
   "outputs": [],
   "source": [
    "hand_df"
   ]
  },
  {
   "cell_type": "code",
   "execution_count": null,
   "id": "d0b920b3",
   "metadata": {},
   "outputs": [],
   "source": [
    "finger_1.getTransform()"
   ]
  },
  {
   "cell_type": "code",
   "execution_count": null,
   "id": "86f040c5",
   "metadata": {},
   "outputs": [],
   "source": [
    "len(new_config)"
   ]
  },
  {
   "cell_type": "code",
   "execution_count": null,
   "id": "74b758de",
   "metadata": {},
   "outputs": [],
   "source": [
    "help(vis.add)"
   ]
  },
  {
   "cell_type": "markdown",
   "id": "a6660984",
   "metadata": {},
   "source": [
    "# Testing HandController"
   ]
  },
  {
   "cell_type": "code",
   "execution_count": null,
   "id": "10574ff3",
   "metadata": {},
   "outputs": [],
   "source": [
    "from allegro_control_demo import HandController, UDP_Server\n",
    "\n",
    "# import pandas as pd\n",
    "# import time\n",
    "# hc = HandController()\n",
    "\n",
    "# hand_df = pd.read_pickle('jingchen_hand_run.pkl')\n",
    "# for pos,angle in zip(hand_df.positions,hand_df.angles):\n",
    "#     hc.animate_and_command(pos,angle)\n",
    "#     time.sleep(0.033)\n",
    "\n",
    "server = UDP_Server(record = False,control = False)"
   ]
  },
  {
   "cell_type": "code",
   "execution_count": null,
   "id": "4565b98f",
   "metadata": {},
   "outputs": [],
   "source": [
    "server.switch_control()"
   ]
  },
  {
   "cell_type": "code",
   "execution_count": null,
   "id": "54f746a6",
   "metadata": {},
   "outputs": [],
   "source": []
  }
 ],
 "metadata": {
  "kernelspec": {
   "display_name": "Python 3",
   "language": "python",
   "name": "python3"
  },
  "language_info": {
   "codemirror_mode": {
    "name": "ipython",
    "version": 3
   },
   "file_extension": ".py",
   "mimetype": "text/x-python",
   "name": "python",
   "nbconvert_exporter": "python",
   "pygments_lexer": "ipython3",
   "version": "3.8.10"
  }
 },
 "nbformat": 4,
 "nbformat_minor": 5
}
